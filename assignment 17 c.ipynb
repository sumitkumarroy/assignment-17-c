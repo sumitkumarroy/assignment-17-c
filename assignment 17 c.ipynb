{
 "cells": [
  {
   "cell_type": "code",
   "execution_count": 1,
   "id": "592e11b8",
   "metadata": {},
   "outputs": [
    {
     "data": {
      "text/plain": [
       "'\\nQ1. What is Estimation Statistics? Explain Point Estimate and Interval Estimate\\nEstimation statistics involves inferring population parameters from sample data.\\n\\nPoint Estimate: A single value estimate of a population parameter, e.g., sample mean.\\nInterval Estimate: A range of values within which the population parameter likely lies, e.g., confidence interval.\\n'"
      ]
     },
     "execution_count": 1,
     "metadata": {},
     "output_type": "execute_result"
    }
   ],
   "source": [
    "'''\n",
    "Q1. What is Estimation Statistics? Explain Point Estimate and Interval Estimate\n",
    "Estimation statistics involves inferring population parameters from sample data.\n",
    "\n",
    "Point Estimate: A single value estimate of a population parameter, e.g., sample mean.\n",
    "Interval Estimate: A range of values within which the population parameter likely lies, e.g., confidence interval.\n",
    "'''"
   ]
  },
  {
   "cell_type": "code",
   "execution_count": 2,
   "id": "16309acb",
   "metadata": {},
   "outputs": [
    {
     "data": {
      "text/plain": [
       "50"
      ]
     },
     "execution_count": 2,
     "metadata": {},
     "output_type": "execute_result"
    }
   ],
   "source": [
    "'''\n",
    "Q2. Python Function to Estimate Population Mean\n",
    "'''\n",
    "def estimate_population_mean(sample_mean, sample_std_dev, sample_size):\n",
    "    return sample_mean\n",
    "\n",
    "# Example usage\n",
    "sample_mean = 50\n",
    "sample_std_dev = 5\n",
    "sample_size = 30\n",
    "population_mean = estimate_population_mean(sample_mean, sample_std_dev, sample_size)\n",
    "population_mean\n"
   ]
  },
  {
   "cell_type": "code",
   "execution_count": 3,
   "id": "a4a752f4",
   "metadata": {},
   "outputs": [
    {
     "data": {
      "text/plain": [
       "'\\nQ3. What is Hypothesis Testing? Why is it Used? Importance of Hypothesis Testing\\nHypothesis testing is a statistical method to test assumptions about a population parameter. It is used to determine the validity of claims or hypotheses. Important for making informed decisions based on data.\\n'"
      ]
     },
     "execution_count": 3,
     "metadata": {},
     "output_type": "execute_result"
    }
   ],
   "source": [
    "'''\n",
    "Q3. What is Hypothesis Testing? Why is it Used? Importance of Hypothesis Testing\n",
    "Hypothesis testing is a statistical method to test assumptions about a population parameter. It is used to determine the validity of claims or hypotheses. Important for making informed decisions based on data.\n",
    "'''"
   ]
  },
  {
   "cell_type": "code",
   "execution_count": 4,
   "id": "966cf9ae",
   "metadata": {},
   "outputs": [
    {
     "data": {
      "text/plain": [
       "'\\nQ4. Hypothesis: Average Weight of Male vs Female College Students\\nHypothesis: The average weight of male college students is greater than the average weight of female college students.\\n'"
      ]
     },
     "execution_count": 4,
     "metadata": {},
     "output_type": "execute_result"
    }
   ],
   "source": [
    "'''\n",
    "Q4. Hypothesis: Average Weight of Male vs Female College Students\n",
    "Hypothesis: The average weight of male college students is greater than the average weight of female college students.\n",
    "'''"
   ]
  },
  {
   "cell_type": "code",
   "execution_count": 5,
   "id": "18affd8c",
   "metadata": {},
   "outputs": [
    {
     "data": {
      "text/plain": [
       "(2.0, 0.08051623795726257)"
      ]
     },
     "execution_count": 5,
     "metadata": {},
     "output_type": "execute_result"
    }
   ],
   "source": [
    "'''\n",
    "Q5. Python Script for Hypothesis Test on Two Population Means\n",
    "'''\n",
    "import scipy.stats as stats\n",
    "\n",
    "def hypothesis_test(sample1, sample2):\n",
    "    t_stat, p_value = stats.ttest_ind(sample1, sample2)\n",
    "    return t_stat, p_value\n",
    "\n",
    "# Example usage\n",
    "sample1 = [70, 75, 80, 85, 90]\n",
    "sample2 = [60, 65, 70, 75, 80]\n",
    "t_stat, p_value = hypothesis_test(sample1, sample2)\n",
    "t_stat, p_value\n"
   ]
  },
  {
   "cell_type": "code",
   "execution_count": 6,
   "id": "4bb653b5",
   "metadata": {},
   "outputs": [
    {
     "data": {
      "text/plain": [
       "'\\nQ6. Null and Alternative Hypothesis Examples\\nNull Hypothesis (𝐻0): No difference in means (𝜇1=𝜇2).\\nAlternative Hypothesis (𝐻1): Difference in means (𝜇1≠𝜇2).\\nExamples:\\n𝐻0: The new drug has no effect. 𝐻1: The new drug has an effect.\\n𝐻0: The average height of men is equal to the average height of women. 𝐻1: The average height of men is different from the average height of women.\\n'"
      ]
     },
     "execution_count": 6,
     "metadata": {},
     "output_type": "execute_result"
    }
   ],
   "source": [
    "'''\n",
    "Q6. Null and Alternative Hypothesis Examples\n",
    "Null Hypothesis (𝐻0): No difference in means (𝜇1=𝜇2).\n",
    "Alternative Hypothesis (𝐻1): Difference in means (𝜇1≠𝜇2).\n",
    "Examples:\n",
    "𝐻0: The new drug has no effect. 𝐻1: The new drug has an effect.\n",
    "𝐻0: The average height of men is equal to the average height of women. 𝐻1: The average height of men is different from the average height of women.\n",
    "'''"
   ]
  },
  {
   "cell_type": "code",
   "execution_count": 7,
   "id": "0b64ca72",
   "metadata": {},
   "outputs": [
    {
     "data": {
      "text/plain": [
       "'\\nQ7. Steps in Hypothesis Testing\\nFormulate null and alternative hypotheses.\\nChoose significance level (\\n𝛼\\nα).\\nCollect data.\\nCalculate test statistic.\\nDetermine p-value or critical value.\\nMake a decision: reject or fail to reject the null hypothesis.\\n'"
      ]
     },
     "execution_count": 7,
     "metadata": {},
     "output_type": "execute_result"
    }
   ],
   "source": [
    "'''\n",
    "Q7. Steps in Hypothesis Testing\n",
    "Formulate null and alternative hypotheses.\n",
    "Choose significance level (\n",
    "𝛼\n",
    "α).\n",
    "Collect data.\n",
    "Calculate test statistic.\n",
    "Determine p-value or critical value.\n",
    "Make a decision: reject or fail to reject the null hypothesis.\n",
    "'''"
   ]
  },
  {
   "cell_type": "code",
   "execution_count": 8,
   "id": "cccab3f5",
   "metadata": {},
   "outputs": [
    {
     "data": {
      "text/plain": [
       "'\\nQ8. Define p-value and Its Significance\\np-value is the probability of obtaining test results at least as extreme as the observed results, assuming the null hypothesis is true. It measures the strength of evidence against the null hypothesis. A small p-value (< \\n𝛼\\nα) indicates strong evidence against the null hypothesis.\\n'"
      ]
     },
     "execution_count": 8,
     "metadata": {},
     "output_type": "execute_result"
    }
   ],
   "source": [
    "'''\n",
    "Q8. Define p-value and Its Significance\n",
    "p-value is the probability of obtaining test results at least as extreme as the observed results, assuming the null hypothesis is true. It measures the strength of evidence against the null hypothesis. A small p-value (< \n",
    "𝛼\n",
    "α) indicates strong evidence against the null hypothesis.\n",
    "'''"
   ]
  },
  {
   "cell_type": "code",
   "execution_count": 9,
   "id": "f8993477",
   "metadata": {},
   "outputs": [
    {
     "data": {
      "image/png": "[encoded data removed]",
      "text/plain": [
       "<Figure size 640x480 with 1 Axes>"
      ]
     },
     "metadata": {},
     "output_type": "display_data"
    }
   ],
   "source": [
    "'''\n",
    "Q9. Generate Student's t-Distribution Plot\n",
    "'''\n",
    "import numpy as np\n",
    "import matplotlib.pyplot as plt\n",
    "import scipy.stats as stats\n",
    "\n",
    "df = 10\n",
    "x = np.linspace(-4, 4, 100)\n",
    "y = stats.t.pdf(x, df)\n",
    "\n",
    "plt.plot(x, y, label=f'df={df}')\n",
    "plt.title(\"Student's t-Distribution\")\n",
    "plt.xlabel('t')\n",
    "plt.ylabel('Probability Density')\n",
    "plt.legend()\n",
    "plt.show()\n"
   ]
  },
  {
   "cell_type": "code",
   "execution_count": 10,
   "id": "daaa99e7",
   "metadata": {},
   "outputs": [
    {
     "data": {
      "text/plain": [
       "(-0.48388096282018894, 0.6302923694687079)"
      ]
     },
     "execution_count": 10,
     "metadata": {},
     "output_type": "execute_result"
    }
   ],
   "source": [
    "'''\n",
    "Q10. Python Program for Two-Sample t-Test\n",
    "\n",
    "'''\n",
    "def two_sample_t_test(sample1, sample2):\n",
    "    t_stat, p_value = stats.ttest_ind(sample1, sample2)\n",
    "    return t_stat, p_value\n",
    "\n",
    "# Example usage\n",
    "sample1 = np.random.normal(50, 10, 30)\n",
    "sample2 = np.random.normal(52, 10, 30)\n",
    "t_stat, p_value = two_sample_t_test(sample1, sample2)\n",
    "t_stat, p_value\n"
   ]
  },
  {
   "cell_type": "code",
   "execution_count": 11,
   "id": "ef956a86",
   "metadata": {},
   "outputs": [
    {
     "data": {
      "text/plain": [
       "\"\\nQ11. What is Student’s t Distribution? When to Use\\nStudent's t-distribution is used when estimating population parameters when the sample size is small, and the population standard deviation is unknown. Used in hypothesis testing for small samples.\\n\""
      ]
     },
     "execution_count": 11,
     "metadata": {},
     "output_type": "execute_result"
    }
   ],
   "source": [
    "'''\n",
    "Q11. What is Student’s t Distribution? When to Use\n",
    "Student's t-distribution is used when estimating population parameters when the sample size is small, and the population standard deviation is unknown. Used in hypothesis testing for small samples.\n",
    "'''"
   ]
  },
  {
   "cell_type": "code",
   "execution_count": 12,
   "id": "648a6cce",
   "metadata": {},
   "outputs": [
    {
     "data": {
      "text/plain": [
       "'\\nQ12. What is t-Statistic? Formula\\nThe t-statistic measures how many standard deviations the sample mean is from the population mean. Formula:\\n\\n𝑡=(𝑥ˉ−𝜇)𝑠/sqr.n\\n\\nwhere \\n𝑥ˉ is sample mean, \\n\\nμ is population mean, \\n\\ns is sample standard deviation, and \\n\\nn is sample size.\\n'"
      ]
     },
     "execution_count": 12,
     "metadata": {},
     "output_type": "execute_result"
    }
   ],
   "source": [
    "'''\n",
    "Q12. What is t-Statistic? Formula\n",
    "The t-statistic measures how many standard deviations the sample mean is from the population mean. Formula:\n",
    "\n",
    "𝑡=(𝑥ˉ−𝜇)𝑠/sqr.n\n",
    "\n",
    "where \n",
    "𝑥ˉ is sample mean, \n",
    "\n",
    "μ is population mean, \n",
    "\n",
    "s is sample standard deviation, and \n",
    "\n",
    "n is sample size.\n",
    "'''"
   ]
  },
  {
   "cell_type": "code",
   "execution_count": 13,
   "id": "ebb5005b",
   "metadata": {},
   "outputs": [
    {
     "data": {
      "text/plain": [
       "'Q13. Estimate Population Mean Revenue with 95% Confidence Interval\\n𝑥ˉ=500\\n𝑠=50\\n𝑛=50\\nConfidence\\xa0level=95%\\n\\nCI=𝑥ˉ±𝑡𝛼/2,𝑛−1×𝑠/sqr.𝑛\\nUsing 𝑡0.025,49≈2.0096:\\n\\nCI=500±2.0096×50/sqr.50\\nCI=500±14.20\\n\\nCI=[485.80,514.20]\\n'"
      ]
     },
     "execution_count": 13,
     "metadata": {},
     "output_type": "execute_result"
    }
   ],
   "source": [
    "'''Q13. Estimate Population Mean Revenue with 95% Confidence Interval\n",
    "𝑥ˉ=500\n",
    "𝑠=50\n",
    "𝑛=50\n",
    "Confidence level=95%\n",
    "\n",
    "CI=𝑥ˉ±𝑡𝛼/2,𝑛−1×𝑠/sqr.𝑛\n",
    "Using 𝑡0.025,49≈2.0096:\n",
    "\n",
    "CI=500±2.0096×50/sqr.50\n",
    "CI=500±14.20\n",
    "\n",
    "CI=[485.80,514.20]\n",
    "'''"
   ]
  },
  {
   "cell_type": "code",
   "execution_count": 14,
   "id": "43d0c077",
   "metadata": {},
   "outputs": [
    {
     "data": {
      "text/plain": [
       "'\\nQ14. Test Hypothesis for Drug Effect\\n𝐻0:𝜇=10\\n𝐻1:𝜇<10\\n𝑥ˉ=8\\n𝑠=3\\nn=100\\nα=0.05\\n\\n𝑡=(8−10)(3/100)=−6.67\\n\\nCritical value 𝑡0.05,99=−1.66\\n\\nSince −6.67<−1.66,reject 𝐻0.\\n'"
      ]
     },
     "execution_count": 14,
     "metadata": {},
     "output_type": "execute_result"
    }
   ],
   "source": [
    "'''\n",
    "Q14. Test Hypothesis for Drug Effect\n",
    "𝐻0:𝜇=10\n",
    "𝐻1:𝜇<10\n",
    "𝑥ˉ=8\n",
    "𝑠=3\n",
    "n=100\n",
    "α=0.05\n",
    "\n",
    "𝑡=(8−10)(3/100)=−6.67\n",
    "\n",
    "Critical value 𝑡0.05,99=−1.66\n",
    "\n",
    "Since −6.67<−1.66,reject 𝐻0.\n",
    "'''"
   ]
  },
  {
   "cell_type": "code",
   "execution_count": 15,
   "id": "b98c7446",
   "metadata": {},
   "outputs": [
    {
     "data": {
      "text/plain": [
       "'\\nQ15. Test Hypothesis for Product Weight\\n𝐻\\n0\\n:\\n𝜇\\n=\\n5\\nH \\n0\\n\\u200b\\n :μ=5\\n𝐻\\n1\\n:\\n𝜇\\n<\\n5\\nH \\n1\\n\\u200b\\n :μ<5\\n\\n𝑥\\nˉ\\n=\\n4.8\\nx\\nˉ\\n =4.8\\n𝑠\\n=\\n0.5\\ns=0.5\\n𝑛\\n=\\n25\\nn=25\\n𝛼\\n=\\n0.01\\nα=0.01\\n\\n𝑡\\n=\\n4.8\\n−\\n5\\n0.5\\n/\\n25\\n=\\n−\\n2\\nt= \\n0.5/ \\n25\\n\\u200b\\n \\n4.8−5\\n\\u200b\\n =−2\\n\\nCritical value \\n𝑡\\n0.01\\n,\\n24\\n=\\n−\\n2.492\\nt \\n0.01,24\\n\\u200b\\n =−2.492.\\n\\nSince \\n−\\n2\\n>\\n−\\n2.492\\n−2>−2.492, fail to reject \\n𝐻\\n0\\nH \\n0\\n\\u200b\\n .\\n'"
      ]
     },
     "execution_count": 15,
     "metadata": {},
     "output_type": "execute_result"
    }
   ],
   "source": [
    "'''\n",
    "Q15. Test Hypothesis for Product Weight\n",
    "𝐻\n",
    "0\n",
    ":\n",
    "𝜇\n",
    "=\n",
    "5\n",
    "H \n",
    "0\n",
    "​\n",
    " :μ=5\n",
    "𝐻\n",
    "1\n",
    ":\n",
    "𝜇\n",
    "<\n",
    "5\n",
    "H \n",
    "1\n",
    "​\n",
    " :μ<5\n",
    "\n",
    "𝑥\n",
    "ˉ\n",
    "=\n",
    "4.8\n",
    "x\n",
    "ˉ\n",
    " =4.8\n",
    "𝑠\n",
    "=\n",
    "0.5\n",
    "s=0.5\n",
    "𝑛\n",
    "=\n",
    "25\n",
    "n=25\n",
    "𝛼\n",
    "=\n",
    "0.01\n",
    "α=0.01\n",
    "\n",
    "𝑡\n",
    "=\n",
    "4.8\n",
    "−\n",
    "5\n",
    "0.5\n",
    "/\n",
    "25\n",
    "=\n",
    "−\n",
    "2\n",
    "t= \n",
    "0.5/ \n",
    "25\n",
    "​\n",
    " \n",
    "4.8−5\n",
    "​\n",
    " =−2\n",
    "\n",
    "Critical value \n",
    "𝑡\n",
    "0.01\n",
    ",\n",
    "24\n",
    "=\n",
    "−\n",
    "2.492\n",
    "t \n",
    "0.01,24\n",
    "​\n",
    " =−2.492.\n",
    "\n",
    "Since \n",
    "−\n",
    "2\n",
    ">\n",
    "−\n",
    "2.492\n",
    "−2>−2.492, fail to reject \n",
    "𝐻\n",
    "0\n",
    "H \n",
    "0\n",
    "​\n",
    " .\n",
    "'''"
   ]
  },
  {
   "cell_type": "code",
   "execution_count": 16,
   "id": "3a899bf5",
   "metadata": {},
   "outputs": [
    {
     "data": {
      "text/plain": [
       "'\\nQ16. Test Hypothesis for Study Material Effect\\n𝐻\\n0\\n:\\n𝜇\\n1\\n=\\n𝜇\\n2\\nH \\n0\\n\\u200b\\n :μ \\n1\\n\\u200b\\n =μ \\n2\\n\\u200b\\n \\n𝐻\\n1\\n:\\n𝜇\\n1\\n≠\\n𝜇\\n2\\nH \\n1\\n\\u200b\\n :μ \\n1\\n\\u200b\\n \\n\\ue020\\n=μ \\n2\\n\\u200b\\n \\n\\n𝑥\\nˉ\\n1\\n=\\n80\\n,\\n𝑠\\n1\\n=\\n10\\n,\\n𝑛\\n1\\n=\\n30\\nx\\nˉ\\n  \\n1\\n\\u200b\\n =80,s \\n1\\n\\u200b\\n =10,n \\n1\\n\\u200b\\n =30\\n𝑥\\nˉ\\n2\\n=\\n75\\n,\\n𝑠\\n2\\n=\\n8\\n,\\n𝑛\\n2\\n=\\n40\\nx\\nˉ\\n  \\n2\\n\\u200b\\n =75,s \\n2\\n\\u200b\\n =8,n \\n2\\n\\u200b\\n =40\\n𝛼\\n=\\n0.01\\nα=0.01\\n\\n𝑡\\n=\\n80\\n−\\n75\\n(\\n1\\n0\\n2\\n/\\n30\\n)\\n+\\n(\\n8\\n2\\n/\\n40\\n)\\n=\\n2.5\\nt= \\n(10 \\n2\\n /30)+(8 \\n2\\n /40)\\n\\u200b\\n \\n80−75\\n\\u200b\\n =2.5\\n\\nCritical value \\n𝑡\\n0.005\\n,\\n68\\n≈\\n2.65\\nt \\n0.005,68\\n\\u200b\\n ≈2.65.\\n\\nSince \\n2.5\\n<\\n2.65\\n2.5<2.65, fail to reject \\n𝐻\\n0\\nH \\n0\\n\\u200b\\n .\\n'"
      ]
     },
     "execution_count": 16,
     "metadata": {},
     "output_type": "execute_result"
    }
   ],
   "source": [
    "'''\n",
    "Q16. Test Hypothesis for Study Material Effect\n",
    "𝐻\n",
    "0\n",
    ":\n",
    "𝜇\n",
    "1\n",
    "=\n",
    "𝜇\n",
    "2\n",
    "H \n",
    "0\n",
    "​\n",
    " :μ \n",
    "1\n",
    "​\n",
    " =μ \n",
    "2\n",
    "​\n",
    " \n",
    "𝐻\n",
    "1\n",
    ":\n",
    "𝜇\n",
    "1\n",
    "≠\n",
    "𝜇\n",
    "2\n",
    "H \n",
    "1\n",
    "​\n",
    " :μ \n",
    "1\n",
    "​\n",
    " \n",
    "\n",
    "=μ \n",
    "2\n",
    "​\n",
    " \n",
    "\n",
    "𝑥\n",
    "ˉ\n",
    "1\n",
    "=\n",
    "80\n",
    ",\n",
    "𝑠\n",
    "1\n",
    "=\n",
    "10\n",
    ",\n",
    "𝑛\n",
    "1\n",
    "=\n",
    "30\n",
    "x\n",
    "ˉ\n",
    "  \n",
    "1\n",
    "​\n",
    " =80,s \n",
    "1\n",
    "​\n",
    " =10,n \n",
    "1\n",
    "​\n",
    " =30\n",
    "𝑥\n",
    "ˉ\n",
    "2\n",
    "=\n",
    "75\n",
    ",\n",
    "𝑠\n",
    "2\n",
    "=\n",
    "8\n",
    ",\n",
    "𝑛\n",
    "2\n",
    "=\n",
    "40\n",
    "x\n",
    "ˉ\n",
    "  \n",
    "2\n",
    "​\n",
    " =75,s \n",
    "2\n",
    "​\n",
    " =8,n \n",
    "2\n",
    "​\n",
    " =40\n",
    "𝛼\n",
    "=\n",
    "0.01\n",
    "α=0.01\n",
    "\n",
    "𝑡\n",
    "=\n",
    "80\n",
    "−\n",
    "75\n",
    "(\n",
    "1\n",
    "0\n",
    "2\n",
    "/\n",
    "30\n",
    ")\n",
    "+\n",
    "(\n",
    "8\n",
    "2\n",
    "/\n",
    "40\n",
    ")\n",
    "=\n",
    "2.5\n",
    "t= \n",
    "(10 \n",
    "2\n",
    " /30)+(8 \n",
    "2\n",
    " /40)\n",
    "​\n",
    " \n",
    "80−75\n",
    "​\n",
    " =2.5\n",
    "\n",
    "Critical value \n",
    "𝑡\n",
    "0.005\n",
    ",\n",
    "68\n",
    "≈\n",
    "2.65\n",
    "t \n",
    "0.005,68\n",
    "​\n",
    " ≈2.65.\n",
    "\n",
    "Since \n",
    "2.5\n",
    "<\n",
    "2.65\n",
    "2.5<2.65, fail to reject \n",
    "𝐻\n",
    "0\n",
    "H \n",
    "0\n",
    "​\n",
    " .\n",
    "'''"
   ]
  },
  {
   "cell_type": "code",
   "execution_count": 17,
   "id": "741035e3",
   "metadata": {},
   "outputs": [
    {
     "data": {
      "text/plain": [
       "'\\nQ17. Average Number of Ads Watched\\nTo estimate the average number of ads watched, a random sample mean and standard deviation would be required. The same methods of point and interval estimation can be used as in the previous examples to determine the average with a given confidence interval.\\n'"
      ]
     },
     "execution_count": 17,
     "metadata": {},
     "output_type": "execute_result"
    }
   ],
   "source": [
    "'''\n",
    "Q17. Average Number of Ads Watched\n",
    "To estimate the average number of ads watched, a random sample mean and standard deviation would be required. The same methods of point and interval estimation can be used as in the previous examples to determine the average with a given confidence interval.\n",
    "'''"
   ]
  },
  {
   "cell_type": "code",
   "execution_count": null,
   "id": "99c1b906",
   "metadata": {},
   "outputs": [],
   "source": []
  }
 ],
 "metadata": {
  "kernelspec": {
   "display_name": "Python 3 (ipykernel)",
   "language": "python",
   "name": "python3"
  },
  "language_info": {
   "codemirror_mode": {
    "name": "ipython",
    "version": 3
   },
   "file_extension": ".py",
   "mimetype": "text/x-python",
   "name": "python",
   "nbconvert_exporter": "python",
   "pygments_lexer": "ipython3",
   "version": "3.11.4"
  }
 },
 "nbformat": 4,
 "nbformat_minor": 5
}
